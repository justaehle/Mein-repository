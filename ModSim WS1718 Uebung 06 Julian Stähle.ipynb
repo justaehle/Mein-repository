{
 "cells": [
  {
   "cell_type": "markdown",
   "metadata": {},
   "source": [
    "# Simulation und Modellierung WS17/18 - Uebung 06"
   ]
  },
  {
   "cell_type": "markdown",
   "metadata": {},
   "source": [
    "### Aufgabe 1: Erzeugung und Multiplikation von Vektoren und Matrizen"
   ]
  },
  {
   "cell_type": "markdown",
   "metadata": {},
   "source": [
    "Die Ableitung einer Funktion $f(x)$ an einer Stelle $x_0$ kann mit Hilfe eines geeigneten Differenzenquotienten approximiert werden. Es gilt\n",
    "\n",
    "$$\n",
    "    \\lim_{h\\to 0} \\frac{f(x_0+h)-f(x_0-h)}{2h} = f'(x_0)\n",
    "$$\n",
    "\n",
    "- Definieren Sie eine `N`x`N` Matrix `D`, welche auf einen `N`x`1` Vektor `f` angewendet die symmetrische Differenz der Gitterpunkte $(Df)_i = f_{i+1}-f_{i-1}$ berechnet, wobei man periodische Randbedingungen $f_{i+N}=f_i$ annimmt. \n",
    "- berechnen Sie mit Hilfe dieser Matrix die erste und zweite Abbleitung der Funktion `f(x) = sin(x)` welche an `N` Gitterpunkten auf dem Intervall $[0,2\\pi)$ gegeben sei.\n",
    "- plotten Sie $f(x)$, $f'(x)$ und $f''(x)$ in ein Diagramm."
   ]
  },
  {
   "cell_type": "code",
   "execution_count": 2,
   "metadata": {
    "collapsed": true
   },
   "outputs": [],
   "source": [
    "#Ausgabe der Plots im Notebook und laden von numpy und pylab (matplotlib+pyplot)\n",
    "%matplotlib inline\n",
    "import numpy as np \n",
    "from pylab import *"
   ]
  },
  {
   "cell_type": "code",
   "execution_count": null,
   "metadata": {
    "collapsed": true
   },
   "outputs": [],
   "source": []
  },
  {
   "cell_type": "markdown",
   "metadata": {},
   "source": [
    "Aufgabe 1 mit Matrix gelöst bewerten:"
   ]
  },
  {
   "cell_type": "code",
   "execution_count": null,
   "metadata": {
    "collapsed": false
   },
   "outputs": [],
   "source": [
    "\n",
    "#Defniert Länge und Breite der Matrix bzw. ist die Anzahl der Knotenpunkte:\n",
    "n=1000\n",
    "\n",
    "#erstellt die Definitionswerte der Fkt:\n",
    "x=linspace(0,2*pi,n)\n",
    "#erstellt die Funktionswerte der Fkt:\n",
    "y=sin(x)\n",
    "\n",
    "#erstellt D nach der Anleitung\n",
    "D=np.eye(n,k=+1)-np.eye(n,k=-1)\n",
    "D[0,-1]=-1\n",
    "D[-1,0]=1\n",
    "D[-1,:]=0 ####### warum hier die letzte Spalten null?\n",
    "y[-1]=0 ####### gleich wie oben\n",
    "\n",
    "#Berechnet die Funktionswerte der 1.Ableitung durch Matrix-Vektormultiplikation und schreibt diese in einen Vektor\n",
    "df=D.dot(y)/(2*2*pi/n)\n",
    "#Berechnet die Funktionswerte der 2.Ableitung durch Matrix-Vektormultiplikation und schreibt diese in einen Vektor\n",
    "d2f=D.dot(df)/(2*2*pi/n)\n",
    "\n",
    "#Dient zum Plotten der Funktionen:\n",
    "#die ersten 5 und die letzten 5 Knotenpunkte der Funktionen werden nicht beachtet, da diese sehr Ungenau sind\n",
    "\n",
    "########## wenn man die Matrize D benutzen dann ist so genau wie die andere Punkte :)\n",
    "plot(x[5:n-5],y[5:n-5],'b',label='$sin(x)$')\n",
    "plot(x[5:n-5],df[5:n-5],'g',label=\"$sin'(x)$\")\n",
    "plot(x[5:n-5],d2f[5:n-5],'r',label='''$sin''(x)$''')\n",
    "legend()\n",
    "show()\n",
    "\n",
    "-7"
   ]
  },
  {
   "cell_type": "markdown",
   "metadata": {},
   "source": [
    "### Aufgabe 2 : Der getriebene, gedaempfte harm. Oszillator"
   ]
  },
  {
   "cell_type": "markdown",
   "metadata": {},
   "source": [
    "Der getriebene, gedaempfte harmonische Oszillator genuegt der Differentialgleichung\n",
    "\n",
    "$$\n",
    "    \\ddot x + 2\\gamma \\dot x + \\omega_0^2 x = A \\cos(t)\n",
    "$$\n",
    "z.B. mit $\\gamma=0.1$, $\\omega_0=1.0$ und $A=1.0$.\n",
    "- Schreiben Sie eine Funktion `limit_cycle(omega0=1.0,gamma=0.1,A=1.0,N=100)`, welche die lineare, inhomogene Differentialgleichung in `N` Zeitschritte ueber eine Periode der antreibenen Kraft diskretisiert und als lineares Gleichungssystem \n",
    "<br><br>\n",
    "$$\n",
    "    \\frac{1}{4h^2}\\textrm{D}^2\\cdot \\vec{x} + 2\\gamma \\frac{1}{2h}\\textrm{D}\\cdot \\vec{x} + \\omega_0^2 ~\\mathbf{1}\\cdot \\vec{x} = A cos(\\vec{t})\n",
    "$$\n",
    "loest. \n",
    "\n",
    "- Bestimmen und zeichnen Sie die Amplitude $B$ und die Phasenverschiebung $\\varphi$ der Loesung $x = B \\cos(t-\\varphi)$ als Funktion von $\\omega_0$. Hierfuer kann man die numpy Array Methode `x.argmax()` verwenden, welche den Index des maximalen Elements von `x` liefert.\n",
    "- Zeichnen Sie die analytischen Loesungen\n",
    "$$\n",
    "\\begin{eqnarray}\n",
    "    B &=& \\frac{A}{\\sqrt{(\\omega_0^2-1)^2+4\\gamma^2}} \\\\\n",
    "    \\tan\\varphi &=& \\frac{-2\\gamma}{\\omega_0^2-1}\n",
    "\\end{eqnarray}\n",
    "$$\n",
    "ueber die von Ihnen numerisch gefundenen Loesungen als Funktion der Eigenfrequenz $\\omega_0$ des harmonischen Oscillators. *Hinweis :* Die Methode `numpy.arctan2(y,x)` gibt den Winkel `alpha` mit `sin(alpha)=y` und `cos(alpha)=x` zurueck."
   ]
  },
  {
   "cell_type": "code",
   "execution_count": 20,
   "metadata": {
    "collapsed": false
   },
   "outputs": [
    {
     "data": {
      "text/plain": [
       "array([ 0.20369996,  0.51866574,  0.83156767,  1.14119738,  1.44632219,\n",
       "        1.74576348,  2.03832813,  2.32288577,  2.59830162,  2.8635113 ,\n",
       "        3.11745625,  3.35915483,  3.58764142,  3.80203257,  4.00147085,\n",
       "        4.18518494,  4.3524392 ,  4.50258661,  4.63502502,  4.74924193,\n",
       "        4.84477831,  4.92126427,  4.97839131,  5.01593802,  5.03375144,\n",
       "        5.03176219,  5.00997543,  4.96847496,  4.90742417,  4.82705877,\n",
       "        4.72769798,  4.60972575,  4.4736123 ,  4.31988381,  4.14915427,\n",
       "        3.96208384,  3.75942076,  3.54194881,  3.31053885,  3.06608596,\n",
       "        2.80957001,  2.54198328,  2.26439937,  1.97789211,  1.683612  ,\n",
       "        1.3826975 ,  1.07635793,  0.76577845,  0.4522082 ,  0.13686031,\n",
       "       -0.17899594, -0.49413858, -0.80729817, -1.11726325, -1.42278425,\n",
       "       -1.72267932, -2.01573855, -2.30082839, -2.57679772, -2.84257921,\n",
       "       -3.09709878, -3.33937221, -3.5684195 , -3.78335511, -3.98330874,\n",
       "       -4.16750751, -4.33520469, -4.48575232, -4.61853915, -4.73305241,\n",
       "       -4.82882615, -4.90549089, -4.96273352, -5.00033368, -5.01813623,\n",
       "       -5.01607342, -4.99415068, -4.95245393, -4.8911493 , -4.81047499,\n",
       "       -4.71075535, -4.5923771 , -4.45581781, -4.30160659, -4.13036687,\n",
       "       -3.94276171, -3.73955065, -3.52152022, -3.28955418, -3.04455   ,\n",
       "       -2.78750183, -2.51940382, -2.24134484, -1.95439995, -1.6597356 ,\n",
       "       -1.35849066, -1.05189078, -0.74112053, -0.42744537, -0.11207679])"
      ]
     },
     "execution_count": 20,
     "metadata": {},
     "output_type": "execute_result"
    }
   ],
   "source": [
    "import numpy as np\n",
    "def limit_cycle(omega0=1.0,gamma=0.1,A=1.0,N=100) :\n",
    "    \"\"\" \n",
    "    Bestimmt die Loesung der inhomogenen linearen Differentialgleichung\n",
    "    d^2x/dt^2 + 2 gamma dx/dt + omega0^2 x = A cos(t)\n",
    "    auf dem in N Punkte diskretisierten periodischen Zeitintervall [0,2pi)\n",
    "    \"\"\"\n",
    "    \n",
    "    #erstellt die Definitionswerte der Fkt:\n",
    "    t=linspace(0,2*pi,N, endpoint = True)\n",
    "    #print(t[-1])\n",
    "    # t=linspace(0,2*pi,N, endpoint = False) ############ braucht man 'endpoint = False' hier sonst wird am t = 0 oder 2 pi \n",
    "                                                        # Werte undeutig\n",
    "    #print(t[-1])\n",
    "    #definiert h/also den Abstand zwischen den einzelnen x-Werten\n",
    "    h = 2 * pi / N\n",
    "    \n",
    "    #erstellt D nach der Anleitung\n",
    "    D=np.eye(N,k=1)-np.eye(N,k=-1)\n",
    "    D[0,-1]=-1\n",
    "    D[-1,0]=1\n",
    "    #D[-1,:]=0\n",
    "    \n",
    "    \n",
    "    #Formel Angewendet(um x zu berechnen):\n",
    "    x=np.linalg.solve(D.dot(D) * ( 1 / ( 4 * h ** 2)) + D * ( 2 * gamma * 1 / ( 2 * h ) )+ omega0 ** 2 * np.eye(N),A * cos(t) )\n",
    "    return(x)\n",
    "    \n",
    "\n",
    "      \n",
    "\n",
    "limit_cycle()"
   ]
  },
  {
   "cell_type": "code",
   "execution_count": 21,
   "metadata": {
    "collapsed": false
   },
   "outputs": [
    {
     "data": {
      "image/png": "[encoded data removed]",
      "text/plain": [
       "<matplotlib.figure.Figure at 0x7f277148a438>"
      ]
     },
     "metadata": {},
     "output_type": "display_data"
    }
   ],
   "source": [
    "L=100\n",
    "omega0 = np.linspace(0.1,4,L)\n",
    "B = np.zeros(L)\n",
    "phi = np.zeros(L)\n",
    "\n",
    "# bestimme B und phi numerisch fuer alle Werte in omega0\n",
    "# definiere die theoretischen Werte Bth und phith\n",
    "#Berechnung der Amplitude B und phi\n",
    "for i in range(0,L):\n",
    "    x=limit_cycle(omega0=omega0[i],N=500)\n",
    "    B[i]= x[x.argmax()]\n",
    "    \n",
    "    t=linspace(0,2*pi,500) ##### konstante Vector wie t soll aussern diese Loop berechnet werden\n",
    "     \n",
    "    phi[i] = -t[x.argmax()] #### wenn x max ist, wert von x_max ist B, und t wert ist dann den phi\n",
    "    #phi[i]= (-1) * ( arccos( x[i] / B[0] ) - t[i] )\n",
    "\n",
    "A=1\n",
    "gamma=0.1\n",
    "Bth=np.zeros(L)\n",
    "phith=np.zeros(L)\n",
    "\n",
    "#Berechnung der theoretischen Amplitude Bth und des theoretischem phi:\n",
    "for n in range(0,L):\n",
    "    Bth[n]=A/sqrt((omega0[n]**2-1)**2+4*gamma**2)\n",
    "    phith[n]= np.arctan2((-2*gamma),(omega0[n]**2-1))\n",
    "\n",
    "subplot(2,1,1)\n",
    "plot(omega0,B,label='num.')\n",
    "plot(omega0,Bth,'k--',label='Theorie')\n",
    "legend()\n",
    "xlabel('$\\omega_0$')\n",
    "ylabel('$B$')\n",
    "\n",
    "\n",
    "subplot(2,1,2)\n",
    "plot(omega0,phi,label='num.')\n",
    "plot(omega0,phith,'k--',label='Theorie')\n",
    "legend()\n",
    "xlabel('$\\omega_0$')\n",
    "ylabel('$\\phi$')\n",
    "show()\n",
    "-8"
   ]
  },
  {
   "cell_type": "code",
   "execution_count": null,
   "metadata": {
    "collapsed": true
   },
   "outputs": [],
   "source": []
  },
  {
   "cell_type": "code",
   "execution_count": null,
   "metadata": {
    "collapsed": true
   },
   "outputs": [],
   "source": []
  }
 ],
 "metadata": {
  "anaconda-cloud": {},
  "kernelspec": {
   "display_name": "Python [default]",
   "language": "python",
   "name": "python3"
  },
  "language_info": {
   "codemirror_mode": {
    "name": "ipython",
    "version": 3
   },
   "file_extension": ".py",
   "mimetype": "text/x-python",
   "name": "python",
   "nbconvert_exporter": "python",
   "pygments_lexer": "ipython3",
   "version": "3.5.2"
  }
 },
 "nbformat": 4,
 "nbformat_minor": 1
}
